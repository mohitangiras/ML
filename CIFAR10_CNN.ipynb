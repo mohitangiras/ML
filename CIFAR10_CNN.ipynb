{
  "nbformat": 4,
  "nbformat_minor": 0,
  "metadata": {
    "colab": {
      "name": "CIFAR10_CNN.ipynb",
      "provenance": [],
      "authorship_tag": "ABX9TyO6R1FYX+fHOHKPWt2TvLay",
      "include_colab_link": true
    },
    "kernelspec": {
      "name": "python3",
      "display_name": "Python 3"
    }
  },
  "cells": [
    {
      "cell_type": "markdown",
      "metadata": {
        "id": "view-in-github",
        "colab_type": "text"
      },
      "source": [
        "<a href=\"https://colab.research.google.com/github/mohitangiras/ML/blob/master/CIFAR10_CNN.ipynb\" target=\"_parent\"><img src=\"https://colab.research.google.com/assets/colab-badge.svg\" alt=\"Open In Colab\"/></a>"
      ]
    },
    {
      "cell_type": "code",
      "metadata": {
        "id": "V4Ph-T22Imc6",
        "colab_type": "code",
        "colab": {}
      },
      "source": [
        "def build_model():\n",
        "    model = models.Sequential()\n",
        "    # 1st block \n",
        "    model.add(layers.Conv2D(32, (3,3), padding='same', input_shape=x_train.shape[1:], activation='relu'))\n",
        "    model.add(layers.BatchNormalization()) \n",
        "    model.add(layers.Conv2D(32, (3,3), padding='same', activation='relu'))\n",
        "    model.add(layers.BatchNormalization())\n",
        "    model.add(layers.MaxPooling2D(pool_size=(2,2))) \n",
        "    model.add(layers.Dropout(0.2)) \n",
        "    # 2nd block \n",
        "    model.add(layers.Conv2D(64, (3,3), padding='same', activation='relu')) \n",
        "    model.add(layers.BatchNormalization()) \n",
        "    model.add(layers.Conv2D(64, (3,3), padding='same', activation='relu')) \n",
        "    model.add(layers.BatchNormalization()) \n",
        "    model.add(layers.MaxPooling2D(pool_size=(2,2))) \n",
        "    model.add(layers.Dropout(0.3)) \n",
        "    \n",
        "    # 3d block \n",
        "    model.add(layers.Conv2D(128, (3,3), padding='same', activation='relu')) \n",
        "    model.add(layers.BatchNormalization()) \n",
        "    model.add(layers.Conv2D(128, (3,3), padding='same', activation='relu')) \n",
        "    model.add(layers.BatchNormalization()) \n",
        "    model.add(layers.MaxPooling2D(pool_size=(2,2))) \n",
        "    model.add(layers.Dropout(0.4)) \n",
        "    \n",
        "    # dense \n",
        "    model.add(layers.Flatten()) \n",
        "    model.add(layers.Dense(NUM_CLASSES, activation='softmax')) \n",
        "    return model \n",
        "    #model.summary()"
      ],
      "execution_count": 13,
      "outputs": []
    },
    {
      "cell_type": "code",
      "metadata": {
        "id": "wVjorh0MJP3o",
        "colab_type": "code",
        "colab": {
          "base_uri": "https://localhost:8080/",
          "height": 84
        },
        "outputId": "f69b103d-59c6-4505-92d3-2e90067862e9"
      },
      "source": [
        "import tensorflow as tf\n",
        " \n",
        "from tensorflow.keras import datasets, layers, models, regularizers, optimizers \n",
        "from tensorflow.keras.preprocessing.image import ImageDataGenerator \n",
        "import numpy as np \n",
        "\n",
        "EPOCHS=50 \n",
        "NUM_CLASSES = 10 \n",
        "def load_data(): \n",
        "  (x_train, y_train), (x_test, y_test) = datasets.cifar10.load_data() \n",
        "  x_train = x_train.astype('float32') \n",
        "  x_test = x_test.astype('float32') \n",
        "  # normalize \n",
        "  mean = np.mean(x_train,axis=(0,1,2,3)) \n",
        "  std = np.std(x_train,axis=(0,1,2,3)) \n",
        "  x_train = (x_train-mean)/(std+1e-7) \n",
        "  x_test = (x_test-mean)/(std+1e-7) \n",
        "  y_train = tf.keras.utils.to_categorical(y_train,NUM_CLASSES) \n",
        "  y_test = tf.keras.utils.to_categorical(y_test,NUM_CLASSES) \n",
        "  return x_train, y_train, x_test, y_test \n",
        "  \n",
        "#Then we need to have a part to train the network: \n",
        "(x_train, y_train, x_test, y_test) = load_data() \n",
        "model = build_model() \n",
        "model.compile(loss='categorical_crossentropy', optimizer='RMSprop', metrics=['accuracy']) \n",
        "# train \n",
        "batch_size = 64 \n",
        "model.fit(x_train, y_train, batch_size=batch_size, epochs=EPOCHS, validation_data=(x_test,y_test)) \n",
        "score = model.evaluate(x_test, y_test, batch_size=BATCH_SIZE) \n",
        "print(\"\\nTest score:\", score[0]) \n",
        "print('Test accuracy:', score[1])"
      ],
      "execution_count": null,
      "outputs": [
        {
          "output_type": "stream",
          "text": [
            "Downloading data from https://www.cs.toronto.edu/~kriz/cifar-10-python.tar.gz\n",
            "170500096/170498071 [==============================] - 4s 0us/step\n",
            "Epoch 1/50\n",
            "161/782 [=====>........................] - ETA: 5:25 - loss: 2.4651 - accuracy: 0.3332"
          ],
          "name": "stdout"
        }
      ]
    }
  ]
}